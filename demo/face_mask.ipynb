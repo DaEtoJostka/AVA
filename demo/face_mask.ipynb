{
 "cells": [
  {
   "cell_type": "code",
   "execution_count": 1,
   "metadata": {},
   "outputs": [],
   "source": [
    "# Импорт необходимых библиотек\n",
    "import cv2\n",
    "import mediapipe as mp\n",
    "import polars as pl\n",
    "from tqdm import tqdm"
   ]
  },
  {
   "cell_type": "code",
   "execution_count": 2,
   "metadata": {},
   "outputs": [],
   "source": [
    "# Пути к файлам\n",
    "input_video = \"../test_videos/gasprom.mp4\"  # Путь к входному видео\n",
    "output_video = \"../output_videos/mask_video_output.mp4\"  # Путь к выходному видео\n",
    "output_csv = \"../annotations/mask_annotations.csv\"  # Путь к выходному CSV"
   ]
  },
  {
   "cell_type": "code",
   "execution_count": 3,
   "metadata": {},
   "outputs": [
    {
     "name": "stderr",
     "output_type": "stream",
     "text": [
      "WARNING: All log messages before absl::InitializeLog() is called are written to STDERR\n",
      "I0000 00:00:1727590755.593385 2179620 gl_context.cc:357] GL version: 2.1 (2.1 Metal - 88.1), renderer: Apple M1\n",
      "INFO: Created TensorFlow Lite XNNPACK delegate for CPU.\n",
      "W0000 00:00:1727590755.607371 2208451 inference_feedback_manager.cc:114] Feedback manager requires a model with a single signature inference. Disabling support for feedback tensors.\n",
      "W0000 00:00:1727590755.615501 2208453 inference_feedback_manager.cc:114] Feedback manager requires a model with a single signature inference. Disabling support for feedback tensors.\n",
      "Обработка видео:   0%|          | 0/208 [00:00<?, ?it/s]W0000 00:00:1727590755.783345 2208451 landmark_projection_calculator.cc:186] Using NORM_RECT without IMAGE_DIMENSIONS is only supported for the square ROI. Provide IMAGE_DIMENSIONS or use PROJECTION_MATRIX.\n",
      "/opt/homebrew/lib/python3.11/site-packages/google/protobuf/symbol_database.py:55: UserWarning: SymbolDatabase.GetPrototype() is deprecated. Please use message_factory.GetMessageClass() instead. SymbolDatabase.GetPrototype() will be removed soon.\n",
      "  warnings.warn('SymbolDatabase.GetPrototype() is deprecated. Please '\n",
      "Обработка видео:  99%|█████████▉| 206/208 [00:02<00:00, 69.57it/s]\n"
     ]
    },
    {
     "name": "stdout",
     "output_type": "stream",
     "text": [
      "Обработка завершена. Аннотированное видео сохранено как ../output_videos/mask_video_output.mp4\n",
      "Аннотации сохранены в ../annotations/mask_annotations.csv\n"
     ]
    }
   ],
   "source": [
    "def main(input_video_path, output_video_path, output_csv_path):\n",
    "    # Инициализация Mediapipe для отслеживания лица\n",
    "    mp_face_mesh = mp.solutions.face_mesh\n",
    "    face_mesh = mp_face_mesh.FaceMesh(static_image_mode=False,\n",
    "                                      max_num_faces=1,\n",
    "                                      refine_landmarks=True,\n",
    "                                      min_detection_confidence=0.6,\n",
    "                                      min_tracking_confidence=0.6)\n",
    "\n",
    "    # Инициализация инструментов рисования\n",
    "    mp_drawing = mp.solutions.drawing_utils\n",
    "    mp_drawing_styles = mp.solutions.drawing_styles\n",
    "\n",
    "    # Захват видео\n",
    "    cap = cv2.VideoCapture(input_video_path)\n",
    "    if not cap.isOpened():\n",
    "        print(f\"Не удалось открыть видео: {input_video_path}\")\n",
    "        return\n",
    "\n",
    "    # Получение параметров видео\n",
    "    frame_width = int(cap.get(cv2.CAP_PROP_FRAME_WIDTH))\n",
    "    frame_height = int(cap.get(cv2.CAP_PROP_FRAME_HEIGHT))\n",
    "    fps = cap.get(cv2.CAP_PROP_FPS)\n",
    "    total_frames = int(cap.get(cv2.CAP_PROP_FRAME_COUNT))\n",
    "\n",
    "    # Настройка записи видео\n",
    "    fourcc = cv2.VideoWriter_fourcc(*'mp4v')\n",
    "    out = cv2.VideoWriter(output_video_path, fourcc, fps, (frame_width, frame_height))\n",
    "\n",
    "    # Список для хранения аннотаций\n",
    "    annotations = []\n",
    "\n",
    "    # Обработка кадров с прогресс-баром\n",
    "    for frame_num in tqdm(range(total_frames), desc=\"Обработка видео\"):\n",
    "        ret, frame = cap.read()\n",
    "        if not ret:\n",
    "            break\n",
    "\n",
    "        # Конвертация цвета для Mediapipe\n",
    "        rgb_frame = cv2.cvtColor(frame, cv2.COLOR_BGR2RGB)\n",
    "        results = face_mesh.process(rgb_frame)\n",
    "\n",
    "        if results.multi_face_landmarks:\n",
    "            for face_id, face_landmarks in enumerate(results.multi_face_landmarks, start=1):\n",
    "                # Рисование маски лица\n",
    "                mp_drawing.draw_landmarks(\n",
    "                    image=frame,\n",
    "                    landmark_list=face_landmarks,\n",
    "                    connections=mp_face_mesh.FACEMESH_TESSELATION,\n",
    "                    landmark_drawing_spec=None,\n",
    "                    connection_drawing_spec=mp_drawing_styles\n",
    "                        .get_default_face_mesh_tesselation_style())\n",
    "\n",
    "                # Извлечение координат точек маски лица\n",
    "                landmarks = []\n",
    "                for landmark in face_landmarks.landmark:\n",
    "                    x = landmark.x * frame_width\n",
    "                    y = landmark.y * frame_height\n",
    "                    z = landmark.z  # Z-координата может быть полезна для глубины\n",
    "                    landmarks.extend([x, y, z])\n",
    "\n",
    "                # Создание словаря аннотации для текущего лица\n",
    "                annotation = {\n",
    "                    \"frame\": frame_num,\n",
    "                    \"face_id\": face_id\n",
    "                }\n",
    "\n",
    "                # Добавление координат точек маски лица\n",
    "                for idx in range(0, len(landmarks), 3):\n",
    "                    annotation[f\"landmark_{idx//3}_x\"] = landmarks[idx]\n",
    "                    annotation[f\"landmark_{idx//3}_y\"] = landmarks[idx + 1]\n",
    "                    annotation[f\"landmark_{idx//3}_z\"] = landmarks[idx + 2]\n",
    "\n",
    "                annotations.append(annotation)\n",
    "\n",
    "        # Запись кадра в выходное видео\n",
    "        out.write(frame)\n",
    "\n",
    "    # Освобождение ресурсов\n",
    "    cap.release()\n",
    "    out.release()\n",
    "\n",
    "    if annotations:\n",
    "        df = pl.DataFrame(annotations)\n",
    "        df.write_csv(output_csv_path)\n",
    "        print(f\"Обработка завершена. Аннотированное видео сохранено как {output_video_path}\")\n",
    "        print(f\"Аннотации сохранены в {output_csv_path}\")\n",
    "    else:\n",
    "        print(\"Лица не обнаружены в видео. CSV-файл не создан.\")\n",
    "\n",
    "# Запуск основной функции\n",
    "main(input_video, output_video, output_csv)"
   ]
  }
 ],
 "metadata": {
  "kernelspec": {
   "display_name": "Python 3",
   "language": "python",
   "name": "python3"
  },
  "language_info": {
   "codemirror_mode": {
    "name": "ipython",
    "version": 3
   },
   "file_extension": ".py",
   "mimetype": "text/x-python",
   "name": "python",
   "nbconvert_exporter": "python",
   "pygments_lexer": "ipython3",
   "version": "3.11.10"
  }
 },
 "nbformat": 4,
 "nbformat_minor": 2
}
