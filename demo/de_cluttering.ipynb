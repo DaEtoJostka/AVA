{
 "cells": [
  {
   "cell_type": "code",
   "execution_count": 1,
   "metadata": {},
   "outputs": [],
   "source": [
    "import cv2\n",
    "from ultralytics import YOLO\n",
    "import polars as pl\n",
    "from tqdm import tqdm\n",
    "import os"
   ]
  },
  {
   "cell_type": "code",
   "execution_count": 2,
   "metadata": {},
   "outputs": [],
   "source": [
    "model = YOLO(\"../weights/yolov10s.pt\")  # Замените на yolov8m.pt, yolov8l.pt и т.д., если необходимо\n",
    "\n",
    "# Пример использования функции\n",
    "input_video_path = \"../test_videos/test.mp4\"\n",
    "output_video_path = \"../output_videos/video_cluttering_output.mp4\"\n",
    "annotations_csv_path = \"../annotations/cluttering_annotations.csv\" \n",
    "\n",
    "objects_to_detect = [\"car\", \"person\"]  # Замените на необходимые объекты"
   ]
  },
  {
   "cell_type": "code",
   "execution_count": 4,
   "metadata": {},
   "outputs": [
    {
     "name": "stderr",
     "output_type": "stream",
     "text": [
      "Обработка видео: 100%|██████████| 911/911 [03:21<00:00,  4.53it/s]"
     ]
    },
    {
     "name": "stdout",
     "output_type": "stream",
     "text": [
      "Аннотации сохранены в ../annotations/cluttering_annotations.csv\n",
      "Обработанное видео сохранено в ../output_videos/video_cluttering_output.mp4\n"
     ]
    },
    {
     "name": "stderr",
     "output_type": "stream",
     "text": [
      "\n"
     ]
    }
   ],
   "source": [
    "def process_video(input_path, output_path, objects_to_detect, annotations_csv):\n",
    "\n",
    "    # Захват видео\n",
    "    cap = cv2.VideoCapture(input_path)\n",
    "    if not cap.isOpened():\n",
    "        print(f\"Не удалось открыть видео: {input_path}\")\n",
    "        return\n",
    "\n",
    "    # Получение параметров видео\n",
    "    fps = cap.get(cv2.CAP_PROP_FPS)\n",
    "    width  = int(cap.get(cv2.CAP_PROP_FRAME_WIDTH))\n",
    "    height = int(cap.get(cv2.CAP_PROP_FRAME_HEIGHT))\n",
    "    total_frames = int(cap.get(cv2.CAP_PROP_FRAME_COUNT))\n",
    "\n",
    "    # Инициализация видеописьма\n",
    "    fourcc = cv2.VideoWriter_fourcc(*'mp4v')  # Можно изменить на нужный кодек\n",
    "    out = cv2.VideoWriter(output_path, fourcc, fps, (width, height))\n",
    "\n",
    "    # Список для хранения аннотаций\n",
    "    annotations = []\n",
    "\n",
    "    # Обработка кадров с прогресс-баром\n",
    "    for frame_idx in tqdm(range(total_frames), desc=\"Обработка видео\"):\n",
    "        ret, frame = cap.read()\n",
    "        if not ret:\n",
    "            break\n",
    "\n",
    "        # Детекция объектов\n",
    "        results = model.predict(frame, verbose=False)\n",
    "\n",
    "        # Перебор обнаруженных объектов\n",
    "        for result in results:\n",
    "            for box in result.boxes:\n",
    "                cls_id = int(box.cls[0].item())\n",
    "                label = model.names[cls_id]\n",
    "                confidence = box.conf[0].item()\n",
    "                bbox = box.xyxy[0].cpu().numpy()  # [x1, y1, x2, y2]\n",
    "\n",
    "                if label in objects_to_detect:\n",
    "                    # Рисуем красную рамку\n",
    "                    x1, y1, x2, y2 = map(int, bbox)\n",
    "                    cv2.rectangle(frame, (x1, y1), (x2, y2), (0, 0, 255), 2)\n",
    "                    cv2.putText(frame, f\"{label} {confidence:.2f}\", (x1, y1 - 10),\n",
    "                                cv2.FONT_HERSHEY_SIMPLEX, 0.5, (0, 0, 255), 2)\n",
    "\n",
    "                    # Добавляем аннотацию\n",
    "                    annotations.append({\n",
    "                        \"frame_number\": frame_idx,\n",
    "                        \"object\": label,\n",
    "                        \"x1\": x1,\n",
    "                        \"y1\": y1,\n",
    "                        \"x2\": x2,\n",
    "                        \"y2\": y2,\n",
    "                        \"confidence\": confidence\n",
    "                    })\n",
    "\n",
    "        # Запись обработанного кадра\n",
    "        out.write(frame)\n",
    "        cv2.imshow(\"De-cluttering\", frame)\n",
    "\n",
    "        # Завершение по нажатию клавиши 'q'\n",
    "        if cv2.waitKey(1) & 0xFF == ord('q'):\n",
    "            break\n",
    "\n",
    "    # Закрытие видео\n",
    "    cap.release()\n",
    "    out.release()\n",
    "\n",
    "    # Создание и сохранение CSV с помощью Polars\n",
    "    if annotations:\n",
    "        df = pl.DataFrame(annotations)\n",
    "        df.write_csv(annotations_csv)\n",
    "        print(f\"Аннотации сохранены в {annotations_csv}\")\n",
    "    else:\n",
    "        print(\"Обнаруженные объекты не найдены. CSV-файл не создан.\")\n",
    "\n",
    "    print(f\"Обработанное видео сохранено в {output_path}\")\n",
    "\n",
    "# Вызов функции обработки видео\n",
    "process_video(input_video_path, output_video_path, objects_to_detect, annotations_csv_path)"
   ]
  },
  {
   "cell_type": "code",
   "execution_count": null,
   "metadata": {},
   "outputs": [],
   "source": []
  }
 ],
 "metadata": {
  "kernelspec": {
   "display_name": "Python 3",
   "language": "python",
   "name": "python3"
  },
  "language_info": {
   "codemirror_mode": {
    "name": "ipython",
    "version": 3
   },
   "file_extension": ".py",
   "mimetype": "text/x-python",
   "name": "python",
   "nbconvert_exporter": "python",
   "pygments_lexer": "ipython3",
   "version": "3.11.10"
  }
 },
 "nbformat": 4,
 "nbformat_minor": 2
}
